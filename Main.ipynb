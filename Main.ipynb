{
 "cells": [
  {
   "cell_type": "code",
   "execution_count": 1,
   "metadata": {},
   "outputs": [
    {
     "data": {
      "image/svg+xml": [
       "<?xml version=\"1.0\" encoding=\"UTF-8\"?>\n",
       "<!DOCTYPE svg PUBLIC \"-//W3C//DTD SVG 1.1//EN\"\n",
       " \"http://www.w3.org/Graphics/SVG/1.1/DTD/svg11.dtd\">\n",
       "<svg xmlns=\"http://www.w3.org/2000/svg\" version=\"1.1\"\n",
       "     width=\"25mm\" height=\"25mm\" viewBox=\"0 0 1 1\" stroke=\"none\"\n",
       "     preserveAspectRatio=\"none\" shape-rendering=\"crispEdges\">\n",
       "<defs>\n",
       "    <pattern id=\"pat_1FNTv3\" width=\".2\" height=\".2\"\n",
       "             patternUnits=\"userSpaceOnUse\" >\n",
       "        <path d=\"M.1,0h.1v.1h-.2v.1h.1z\" fill=\"#999\" opacity=\".5\" />\n",
       "    </pattern>\n",
       "</defs>\n",
       "<rect width=\"1\" height=\"1\" fill=\"url(#pat_1FNTv3)\" />\n",
       "<path d=\"M1,0v1h-1z\" fill=\"#2F7A9A\" />\n",
       "<path d=\"M0,0h1v1h-1z\" fill=\"#2F7A9A\" fill-opacity=\".7\" />\n",
       "</svg>"
      ],
      "text/plain": [
       "RGBA{Float64}(0.1843137254901961,0.47843137254901963,0.6039215686274509,0.7)"
      ]
     },
     "execution_count": 1,
     "metadata": {},
     "output_type": "execute_result"
    }
   ],
   "source": [
    "##   Load Packages\n",
    "using BayesianNonparametricStatistics, Plots\n",
    "using Statistics, Distributions\n",
    "using DelimitedFiles, Plots, LaTeXStrings\n",
    "using NBInclude, LinearAlgebra, SparseArrays\n",
    "\n",
    "##   Colors\n",
    "lblue = RGBA(83/255, 201/255, 250/255,0.7)\n",
    "dblue = RGBA(47/255, 122/255, 154/255,0.7)"
   ]
  },
  {
   "cell_type": "code",
   "execution_count": 2,
   "metadata": {},
   "outputs": [
    {
     "name": "stdout",
     "output_type": "stream",
     "text": [
      "Step: 5000                                                                                                                                                                                                        4724                                     \r"
     ]
    }
   ],
   "source": [
    "##   Generate figures for simulated data\n",
    "@nbinclude(\"Simulated_Data.ipynb\")"
   ]
  },
  {
   "cell_type": "code",
   "execution_count": 3,
   "metadata": {},
   "outputs": [
    {
     "name": "stdout",
     "output_type": "stream",
     "text": [
      "Step: 5000                                                                                                                                                                                                                                          3996     \r"
     ]
    }
   ],
   "source": [
    "##   Generate figures for butane data\n",
    "@nbinclude(\"Butane_Data.ipynb\")"
   ]
  },
  {
   "cell_type": "code",
   "execution_count": null,
   "metadata": {},
   "outputs": [],
   "source": []
  },
  {
   "cell_type": "code",
   "execution_count": null,
   "metadata": {},
   "outputs": [],
   "source": []
  }
 ],
 "metadata": {
  "@webio": {
   "lastCommId": null,
   "lastKernelId": null
  },
  "kernelspec": {
   "display_name": "Julia 1.6.0",
   "language": "julia",
   "name": "julia-1.6"
  },
  "language_info": {
   "file_extension": ".jl",
   "mimetype": "application/julia",
   "name": "julia",
   "version": "1.6.0"
  }
 },
 "nbformat": 4,
 "nbformat_minor": 4
}

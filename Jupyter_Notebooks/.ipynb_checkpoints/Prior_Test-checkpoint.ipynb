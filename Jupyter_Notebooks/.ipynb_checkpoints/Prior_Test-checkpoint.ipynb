{
 "cells": [
  {
   "cell_type": "code",
   "execution_count": null,
   "metadata": {},
   "outputs": [],
   "source": [
    "##   Load Packages\n",
    "using BayesianNonparametricStatistics, Plots\n",
    "using Statistics, Distributions\n",
    "using DelimitedFiles, Plots, LaTeXStrings\n",
    "using NBInclude, LinearAlgebra, SparseArrays\n",
    "##   Colors\n",
    "lblue = RGBA(83/255, 201/255, 250/255,0.7)\n",
    "dblue = RGBA(47/255, 122/255, 154/255,0.7)"
   ]
  },
  {
   "cell_type": "code",
   "execution_count": null,
   "metadata": {},
   "outputs": [],
   "source": [
    "##   Load Data\n",
    "df = DelimitedFiles.readdlm(\"butane_data.txt\", '\\n',  ' ')\n",
    "df = df[:,1]\n",
    "#Subsampling to indexes\n",
    "#X_1, X_1001, X_2001,...\n",
    "indexes = [1:1000:4*10^6;]\n",
    "df = df[indexes]"
   ]
  },
  {
   "cell_type": "code",
   "execution_count": null,
   "metadata": {},
   "outputs": [],
   "source": [
    "# Scale data to be 1-periodic\n",
    "x_path = (df).+pi\n",
    "x_path = (df).*1/(2*pi)"
   ]
  },
  {
   "cell_type": "code",
   "execution_count": null,
   "metadata": {},
   "outputs": [],
   "source": [
    "# Estimate sigma^2\n",
    "# sum (v_i-v_i+1)^2\n",
    "sig_est = zeros(3999)\n",
    "\n",
    "for i in 1:3999\n",
    "    sig_est[i] = (x_path[i+1]-x_path[i])^2\n",
    "end\n",
    "# Estimate T for unit diffusion\n",
    "T = 1/sum(sig_est)\n",
    "\n",
    "sigma_hat = sum(sig_est)/4.0\n",
    "\n",
    "eta = 0.02*T^2*2*pi\n",
    "alph = 3/2\n",
    "s = 1/(sqrt(eta)*pi^2 )\n",
    "\n",
    "# Change time scale for unit diffusion\n",
    "time_t = [i*T for i in 0:3999]\n",
    "\n",
    "x_data = SamplePath(time_t, x_path)\n",
    "\n",
    "##   Model\n",
    "#[0,4] nanoseconds\n",
    "σ = 1.0/(2*pi)\n",
    "beginvalue = 0.0\n",
    "endtime = 3.9999#*10^-9\n",
    "Δ = (4.0/4000)#*10^-9\n",
    "\n",
    "\n",
    "model = SDEModel(σ, beginvalue , endtime ,  Δ)"
   ]
  },
  {
   "cell_type": "code",
   "execution_count": null,
   "metadata": {},
   "outputs": [],
   "source": [
    "# Number of terms in the series\n",
    "# sum_k=1^J s*k^-2*Z_k*phi_k\n",
    "J = 200\n",
    "\n",
    "# Distribution of theta in\n",
    "# sum_j theta_j*phi_j\n",
    "distribution = GaussianVector(diagm([(s*0.5)*k^(-2) for k in 1.0:(J+1)]))\n",
    "\n",
    "##   Basis functions\n",
    "# Fourier\n",
    "Π = GaussianProcess(vcat([x ->1.0] , [fourier(k) for k in 1:J]), distribution)\n",
    "\n",
    "\n",
    "##   Posterior\n",
    "postΠ = calculateposterior(Π, x_data, model)\n",
    "# Posterior Mean\n",
    "theta = mean(postΠ)\n",
    "# x values [0,1]\n",
    "x_vals = [0.01:0.001:1;]\n",
    "# Plot posterior mean\n",
    "bayes_post = plot(x_vals.*2*pi.-pi, theta.(x_vals.*(-1).-1), #note .*2pi to get the function on the scale of [0,2pi]\n",
    "                            #instead of [0,1]\n",
    "    linewidth = 3,\n",
    "    linecolor = dblue,\n",
    "    label = \"Posterior Mean\")\n",
    "xlabel!(\"\\$X_t(rad)\\$\")\n",
    "ylabel!(\"\\$b(X_t)\\$\")"
   ]
  },
  {
   "cell_type": "code",
   "execution_count": null,
   "metadata": {},
   "outputs": [],
   "source": [
    "multiplot = plot()\n",
    "\n",
    "for sig in range(1/(2pi),3, length = 5)\n",
    "    model = SDEModel(sig, beginvalue , endtime ,  Δ)\n",
    "    for i in 1:20\n",
    "        # Distribution of theta in\n",
    "        # sum_j theta_j*phi_j\n",
    "        distribution = GaussianVector(diagm([(i)*k^(-2) for k in 1.0:(J+1)]))\n",
    "\n",
    "        ##   Basis functions\n",
    "        # Fourier\n",
    "        Π = GaussianProcess(vcat([x ->1.0] , [fourier(k) for k in 1:J]), distribution)\n",
    "\n",
    "\n",
    "        ##   Posterior\n",
    "        postΠ = calculateposterior(Π, x_data, model)\n",
    "        # Posterior Mean\n",
    "        theta = mean(postΠ)\n",
    "        # x values [0,1]\n",
    "        x_vals = [0.01:0.001:1;]\n",
    "        # Plot posterior mean\n",
    "        tmp_plot = plot(x_vals.*2*pi.-pi, theta.(x_vals.*(-1).-1), #note .*2pi to get the function on the scale of [0,2pi]\n",
    "                                    #instead of [0,1]\n",
    "            linewidth = 3,\n",
    "            linecolor = dblue,\n",
    "            label =string(i),\n",
    "            linealpha = 0.3)\n",
    "        png(tmp_plot, string(sig,i))\n",
    "    end\n",
    "end"
   ]
  }
 ],
 "metadata": {
  "@webio": {
   "lastCommId": null,
   "lastKernelId": null
  },
  "kernelspec": {
   "display_name": "Julia 1.6.0",
   "language": "julia",
   "name": "julia-1.6"
  },
  "language_info": {
   "file_extension": ".jl",
   "mimetype": "application/julia",
   "name": "julia",
   "version": "1.6.0"
  }
 },
 "nbformat": 4,
 "nbformat_minor": 4
}

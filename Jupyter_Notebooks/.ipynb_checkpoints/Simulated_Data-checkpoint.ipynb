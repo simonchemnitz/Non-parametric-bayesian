{
 "cells": [
  {
   "cell_type": "code",
   "execution_count": null,
   "metadata": {},
   "outputs": [],
   "source": [
    "##   Load Packages\n",
    "using BayesianNonparametricStatistics, Plots\n",
    "using Statistics, Distributions\n",
    "using DelimitedFiles, Plots, LaTeXStrings\n",
    "using NBInclude, LinearAlgebra, SparseArrays\n",
    "##   Colors\n",
    "lblue = RGBA(83/255, 201/255, 250/255,0.7)\n",
    "dblue = RGBA(47/255, 122/255, 154/255,0.7)"
   ]
  },
  {
   "cell_type": "code",
   "execution_count": null,
   "metadata": {},
   "outputs": [],
   "source": [
    "##   Defining a drift function\n",
    "\n",
    "#drift function described in section 4 equation (13)\n",
    "#in van der Meulen, Schauer & Van Zanten 2014\n",
    "function drift_a(x)\n",
    "    if  0<=x<2/3\n",
    "        return 2/7-x-2/7*(1-3*x)*sqrt(abs(1-3*x))\n",
    "    end\n",
    "    if  2/3<=x<=1\n",
    "        return -2/7+2/7*x\n",
    "    end\n",
    "end\n",
    "\n",
    "function drift_b(x)\n",
    "    #note the mod(x,1)\n",
    "    #this makes the function 1 periodic\n",
    "    return 12*(drift_a(mod(x,1))+0.05)\n",
    "end\n",
    "\n",
    "\n",
    "##   Simmulating from the SDE\n",
    "\n",
    "# implement SDE dX_t = drift_b(X_t)dt + dW_t, \n",
    "# starting at zero till time 200.0, discretised \n",
    "# with precision 0.01.\n",
    "model_sim = SDEModel(1.0,0.0,200.0,10^-2)\n",
    "\n",
    "##   Define SDE\n",
    "sde = SDE(drift_b,model_sim)\n",
    "\n",
    "##   Sample from SDE\n",
    "x_sim = rand(sde)\n",
    "\n",
    "\n",
    "##   Plot path\n",
    "path_plot = plot()\n",
    "plot!(path_plot,x_sim.timeinterval, x_sim.samplevalues, legend = false, linecolor = dblue)\n",
    "xlabel!(\"\\$t\\$\")\n",
    "ylabel!(\"\\$X_t\\$\")"
   ]
  },
  {
   "cell_type": "markdown",
   "metadata": {},
   "source": [
    "# Direct Computation of mean and variance"
   ]
  },
  {
   "cell_type": "code",
   "execution_count": null,
   "metadata": {},
   "outputs": [],
   "source": [
    "##   Direct Computation\n",
    "\n",
    "##   Model\n",
    "σ = 1.0 #diffusion\n",
    "beginvalue = 0.0 #starting value\n",
    "endtime = 200.0 #end time T\n",
    "Δ = 200.0/20000 #increment delta\n",
    "\n",
    "model = SDEModel(σ, beginvalue , endtime ,  Δ)\n",
    "\n",
    "##   Prior\n",
    "\n",
    "# number of terms in the series\n",
    "# sum_k=1^J s*k^-2*Z_k*phi_k\n",
    "J = 200\n",
    "\n",
    "\n",
    "# distribution of theta in\n",
    "# sum_j theta_j*phi_j\n",
    "s = pi\n",
    "distribution = GaussianVector(diagm([(s*0.5)*k^(-2) for k in 1.0:(J+1)]))\n",
    "\n",
    "# Basis functions\n",
    "# Fourier\n",
    "Π = GaussianProcess(vcat([x ->1.0] , [fourier(k) for k in 1:J]), distribution)\n",
    "\n",
    "\n",
    "\n",
    "##   Posterior\n",
    "\n",
    "# distribution\n",
    "postΠ = calculateposterior(Π, x_sim, model)\n",
    "\n",
    "# posterior mean\n",
    "post_drift_bayes = mean(postΠ)\n",
    "\n",
    "## Plot\n",
    "\n",
    "# x values [0,1]\n",
    "xs = range(0,1,length = 500)\n",
    "\n",
    "# plot posterior mean\n",
    "bayes_post = plot(xs, post_drift_bayes.(xs), \n",
    "    linewidth = 3,\n",
    "    linecolor = dblue,\n",
    "    label = \"Posterior Mean\")\n",
    "plot!(bayes_post, xs, drift_b.(xs),\n",
    "    linecolor = :red,\n",
    "    label = \"True Drift\")\n",
    "xlabel!(\"\\$X_t(rad)\\$\")\n",
    "ylabel!(\"\\$b(X_t)\\$\")"
   ]
  },
  {
   "cell_type": "code",
   "execution_count": null,
   "metadata": {},
   "outputs": [],
   "source": [
    "##   Sample N times from posterior and plot\n",
    "\n",
    "#number of samples to draw\n",
    "N = 100\n",
    "\n",
    "#empty plot\n",
    "sample_plot=plot()\n",
    "\n",
    "x = 0.0:0.01:1.0\n",
    "\n",
    "# Sample\n",
    "for k in 1:N\n",
    "#sample posterior\n",
    "f = rand(postΠ)\n",
    "    \n",
    "#Plot Sample\n",
    "plot!(sample_plot,x,f.(x),show=true, linecolor = dblue, alpha = 0.1, linewidth = 1, label = \"\")\n",
    "\n",
    "#legend arguments\n",
    "if k == 1\n",
    "    plot!(sample_plot,x,f.(x),show=true, linecolor = dblue, \n",
    "            alpha = 0.1, linewidth = 1, label = \"Posterior Samples\")\n",
    "end\n",
    "end\n",
    "\n",
    "\n",
    "#add the true drift to the sample plots\n",
    "plot!(sample_plot,x,drift_b.(x), linecolor = RGBA(1,0,0,1), linewidth = 2, label = \"True Drift\",\n",
    "legend=:bottomleft)\n",
    "xlabel!(\"\\$x\\$\")"
   ]
  },
  {
   "cell_type": "code",
   "execution_count": null,
   "metadata": {},
   "outputs": [],
   "source": [
    "##   Collect in one plot\n",
    "l = @layout [a ; b c]\n",
    "full_bayes_plot = plot(path_plot,sample_plot, bayes_post , layout = l, size = (800,600),margin=5Plots.mm)"
   ]
  },
  {
   "cell_type": "markdown",
   "metadata": {},
   "source": [
    "# MCMC"
   ]
  },
  {
   "cell_type": "code",
   "execution_count": null,
   "metadata": {},
   "outputs": [],
   "source": [
    "@nbinclude(\"MCMC.ipynb\")"
   ]
  },
  {
   "cell_type": "code",
   "execution_count": null,
   "metadata": {},
   "outputs": [],
   "source": [
    "#Number of iterations to make\n",
    "N_step = 5000\n",
    "#number of observations to use a burn in\n",
    "burn = 1000\n",
    "#maximum number of terms in the sum\n",
    "#sum theta_k*phi_k\n",
    "j_max = 200\n",
    "\n",
    "#perform MCMC\n",
    "mu_lst, j_lst = mcmc(x_sim, model, N_step, burn, j_max)\n",
    "\n",
    "#calculate the posterior \n",
    "#mean vector\n",
    "mcmc_post = mcmc_post_mean(mu_lst, N_step, burn)\n",
    "\n",
    "#define the function\n",
    "# sum theta_k*phi_k\n",
    "mcmc_post_drift = calc_mcmc_post_drift(mcmc_post)"
   ]
  },
  {
   "cell_type": "code",
   "execution_count": null,
   "metadata": {},
   "outputs": [],
   "source": [
    "# plot posterior mean\n",
    "mcmc_post_plot = plot(xs, mcmc_post_drift.(xs), \n",
    "    linewidth = 3,\n",
    "    linecolor = dblue,\n",
    "    label = \"Posterior Mean\")\n",
    "plot!(mcmc_post_plot, xs, drift_b.(xs),\n",
    "    linecolor = :red,\n",
    "    label = \"True Drift\")\n",
    "xlabel!(\"\\$X_t(rad)\\$\")\n",
    "ylabel!(\"\\$b(X_t)\\$\")"
   ]
  },
  {
   "cell_type": "code",
   "execution_count": null,
   "metadata": {},
   "outputs": [],
   "source": [
    "##   Plot models visited\n",
    "j_lst2 = j_lst[1,:]\n",
    "\n",
    "model_plot = plot(j_lst2, legend = false, color = dblue,)\n",
    "vline!(model_plot, [1000], color = :black)\n",
    "xlabel!(\"\\$Iteration\\$\")\n",
    "ylabel!(\"\\$Model number\\$\")"
   ]
  },
  {
   "cell_type": "code",
   "execution_count": null,
   "metadata": {},
   "outputs": [],
   "source": [
    "##   Collect in one plot\n",
    "l = @layout [a  b ]\n",
    "full_mcmc_plot = plot(mcmc_post_plot,model_plot, layout = l, size = (800,300),margin=5Plots.mm)"
   ]
  },
  {
   "cell_type": "code",
   "execution_count": null,
   "metadata": {},
   "outputs": [],
   "source": [
    "##   Save Figures\n",
    "png(full_bayes_plot, \"figures\\\\Bayes_plot_sim\")\n",
    "png(full_mcmc_plot, \"figures\\\\MCMC_plot_sim\")"
   ]
  },
  {
   "cell_type": "code",
   "execution_count": null,
   "metadata": {},
   "outputs": [],
   "source": [
    "##   Mac save figures\n",
    "try\n",
    "    png(full_bayes_plot, \"figures/Bayes_plot_sim\")\n",
    "    png(full_mcmc_plot, \"figures/MCMC_plot_sim\")\n",
    "catch e\n",
    "end\n",
    "\n",
    "try\n",
    "    png(full_bayes_plot, \"/figures/Bayes_plot_sim\")\n",
    "    png(full_mcmc_plot, \"/figures/MCMC_plot_sim\")\n",
    "catch e\n",
    "end"
   ]
  }
 ],
 "metadata": {
  "@webio": {
   "lastCommId": null,
   "lastKernelId": null
  },
  "kernelspec": {
   "display_name": "Julia 1.6.0",
   "language": "julia",
   "name": "julia-1.6"
  },
  "language_info": {
   "file_extension": ".jl",
   "mimetype": "application/julia",
   "name": "julia",
   "version": "1.6.0"
  }
 },
 "nbformat": 4,
 "nbformat_minor": 4
}

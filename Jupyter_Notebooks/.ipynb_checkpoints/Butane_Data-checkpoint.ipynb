{
 "cells": [
  {
   "cell_type": "code",
   "execution_count": null,
   "metadata": {},
   "outputs": [],
   "source": [
    "##   Load Packages\n",
    "using BayesianNonparametricStatistics, Plots\n",
    "using Statistics, Distributions\n",
    "using DelimitedFiles, Plots, LaTeXStrings\n",
    "using NBInclude, LinearAlgebra, SparseArrays\n",
    "##   Colors\n",
    "lblue = RGBA(83/255, 201/255, 250/255,0.7)\n",
    "dblue = RGBA(47/255, 122/255, 154/255,0.7)"
   ]
  },
  {
   "cell_type": "code",
   "execution_count": null,
   "metadata": {},
   "outputs": [],
   "source": [
    "##   Load Data\n",
    "df = DelimitedFiles.readdlm(\"butane_data.txt\", '\\n',  ' ')\n",
    "df = df[:,1]\n",
    "#Subsampling to indexes\n",
    "#X_1, X_1001, X_2001,...\n",
    "indexes = [1:1000:4*10^6;]\n",
    "df = df[indexes]"
   ]
  },
  {
   "cell_type": "code",
   "execution_count": null,
   "metadata": {},
   "outputs": [],
   "source": [
    "##   Initial Data Plots\n",
    "\n",
    "# Plot of the time series\n",
    "path_plot = plot(range(0.0,4.0, length = 4000) , df, legend = false, color = dblue)\n",
    "xlabel!(\"\\$t(ns)\\$\")\n",
    "ylabel!(\"\\$X_t\\$\")\n",
    "\n",
    "# Histogram of angles\n",
    "hist_plot = plot(df, bins = 200, seriestype = :barhist, color = dblue, legend = false, linecolor = lblue)\n",
    "xlabel!(\"\\$rad\\$\")\n",
    "ylabel!(\" \")"
   ]
  },
  {
   "cell_type": "code",
   "execution_count": null,
   "metadata": {},
   "outputs": [],
   "source": [
    "##   Define model and scale data\n",
    "\n",
    "# Scale data to be 1-periodic\n",
    "x_path = (df).+pi\n",
    "x_path = (df).*1/(2*pi)\n",
    "\n",
    "# Estimate sigma^2\n",
    "# sum (v_i-v_i+1)^2\n",
    "sig_est = zeros(3999)\n",
    "\n",
    "for i in 1:3999\n",
    "    sig_est[i] = (x_path[i+1]-x_path[i])^2\n",
    "end\n",
    "# Estimate T for unit diffusion\n",
    "T = 1/sum(sig_est)\n",
    "\n",
    "sigma_hat = sum(sig_est)/4.0\n",
    "\n",
    "eta = 0.02*T^2*2*pi\n",
    "alph = 3/2\n",
    "s = 1/(sqrt(eta)*pi^2 )\n",
    "\n",
    "# Change time scale for unit diffusion\n",
    "time_t = [i*T for i in 0:3999]\n",
    "\n",
    "x_data = SamplePath(time_t, x_path)\n",
    "\n",
    "##   Model\n",
    "#[0,4] nanoseconds\n",
    "σ = 1.0/(2*pi)\n",
    "beginvalue = 0.0\n",
    "endtime = 3.9999#*10^-9\n",
    "Δ = (4.0/4000)#*10^-9\n",
    "\n",
    "\n",
    "model = SDEModel(σ, beginvalue , endtime ,  Δ)"
   ]
  },
  {
   "cell_type": "markdown",
   "metadata": {},
   "source": [
    "# Direct Computation"
   ]
  },
  {
   "cell_type": "code",
   "execution_count": null,
   "metadata": {},
   "outputs": [],
   "source": [
    "# Number of terms in the series\n",
    "# sum_k=1^J s*k^-2*Z_k*phi_k\n",
    "J = 200\n",
    "\n",
    "# Distribution of theta in\n",
    "# sum_j theta_j*phi_j\n",
    "distribution = GaussianVector(diagm([(s*0.5)*k^(-alph-0.5) for k in 1.0:(J+1)]))\n",
    "\n",
    "##   Basis functions\n",
    "# Fourier\n",
    "Π = GaussianProcess(vcat([x ->1.0] , [fourier(k) for k in 1:J]), distribution)\n",
    "\n",
    "\n",
    "##   Posterior\n",
    "postΠ = calculateposterior(Π, x_data, model)\n",
    "# Posterior Mean\n",
    "theta = mean(postΠ)\n",
    "# x values [0,1]\n",
    "x_vals = [0.01:0.001:1;]\n",
    "# Plot posterior mean\n",
    "bayes_post = plot(x_vals.*2*pi.-pi, theta.(x_vals), #note .*2pi to get the function on the scale of [0,2pi]\n",
    "                            #instead of [0,1]\n",
    "    linewidth = 3,\n",
    "    linecolor = dblue,\n",
    "    label = \"Posterior Mean\")\n",
    "xlabel!(\"\\$X_t(rad)\\$\")\n",
    "ylabel!(\"\\$b(X_t)\\$\")"
   ]
  },
  {
   "cell_type": "code",
   "execution_count": null,
   "metadata": {},
   "outputs": [],
   "source": [
    "##   Add Credible Bands\n",
    "@nbinclude(\"Credible_Bands.ipynb\")"
   ]
  },
  {
   "cell_type": "code",
   "execution_count": null,
   "metadata": {},
   "outputs": [],
   "source": [
    "#number of posterior drawings\n",
    "M = 200\n",
    "#alpha\n",
    "alph = 0.05\n",
    "#upper and lower bands\n",
    "f_l,f_u =  cred_bands(M , alph , postΠ)\n",
    "\n",
    "#x axis scale\n",
    "c = 2*pi\n",
    "\n",
    "##   Plot mean and bands"
   ]
  },
  {
   "cell_type": "code",
   "execution_count": null,
   "metadata": {},
   "outputs": [],
   "source": [
    "# Fill band color\n",
    "cred_plot = plot(x_vals.*c.-pi, f_l.(x_vals), fillrange = f_u.(x_vals), fillalpha = 0.20, \n",
    "    c = dblue, label = \"Confidence band\", legend = :bottomright, linestyle = :dot, linealpha = 0,\n",
    "foreground_color_legend = nothing,\n",
    "     background_color_legend = nothing)\n",
    "\n",
    "# Plot mean and credible bands\n",
    "plot!(x_vals.*c.-pi,f_u.(x_vals), line = :solid, msw = 0, ms = 2.5, label = \"Upper bound\", linecolor = dblue, linewidth = 2)\n",
    "plot!(x_vals.*c.-pi,f_l.(x_vals), line = :solid, msw = 0, ms = 2.5, label = \"Lower bound\", linecolor = dblue, linewidth = 2)\n",
    "plot!(x_vals.*c.-pi, mean(postΠ).(x_vals),line = :dash, linecolor = lblue , label = \"Posterior Mean\", linealpha = 1, linewidth = 2)\n",
    "\n",
    "xlabel!(\"\\$X_t\\$\")\n",
    "ylabel!(\"\\$b(X_t)\\$\")"
   ]
  },
  {
   "cell_type": "code",
   "execution_count": null,
   "metadata": {},
   "outputs": [],
   "source": [
    "##   Collect in one plot\n",
    "l = @layout [a ; b c]\n",
    "full_bayes_plot = plot(path_plot, hist_plot, cred_plot, layout = l, size = (800,600))"
   ]
  },
  {
   "cell_type": "markdown",
   "metadata": {},
   "source": [
    "# MCMC"
   ]
  },
  {
   "cell_type": "code",
   "execution_count": null,
   "metadata": {},
   "outputs": [],
   "source": [
    "@nbinclude(\"MCMC.ipynb\")"
   ]
  },
  {
   "cell_type": "code",
   "execution_count": null,
   "metadata": {},
   "outputs": [],
   "source": [
    "N_step = 5000\n",
    "burn = 1000\n",
    "j_max = 200\n",
    "\n",
    "#perform MCMC\n",
    "mu_lst, j_lst = mcmc(x_data, model, N_step, burn, j_max)\n",
    "\n",
    "#calculate the posterior \n",
    "#mean vector\n",
    "mcmc_post = mcmc_post_mean(mu_lst, N_step, burn)\n",
    "\n",
    "#define the function\n",
    "# sum theta_k*phi_k\n",
    "mcmc_post_drift = calc_mcmc_post_drift(mcmc_post)"
   ]
  },
  {
   "cell_type": "code",
   "execution_count": null,
   "metadata": {},
   "outputs": [],
   "source": [
    "##   MCMC Plots\n",
    "\n",
    "# Plot posterior mean\n",
    "mcmc_post_plot = plot(x_vals.*2pi.-pi, mcmc_post_drift.(x_vals), \n",
    "    linewidth = 3,\n",
    "    linecolor = dblue,\n",
    "    label = \"Posterior Mean\",\n",
    "    legend = :bottomright)\n",
    "xlabel!(\"\\$X_t(rad)\\$\")\n",
    "ylabel!(\"\\$b(X_t)\\$\")\n",
    "\n",
    "# Plot models visited\n",
    "j_lst2 = j_lst[1,:]\n",
    "\n",
    "model_plot = plot(j_lst2, legend = false, color = dblue,)\n",
    "vline!(model_plot, [1000], color = :black)\n",
    "xlabel!(\"\\$Iteration\\$\")\n",
    "ylabel!(\"\\$Model number\\$\")\n",
    "\n",
    "##   Collect in one plot\n",
    "l = @layout [a  b ]\n",
    "full_mcmc_plot = plot(mcmc_post_plot,model_plot, layout = l, size = (800,300),margin=5Plots.mm)"
   ]
  },
  {
   "cell_type": "code",
   "execution_count": null,
   "metadata": {},
   "outputs": [],
   "source": [
    "##   Joint plot\n",
    "joint_plot = plot(x_vals.*2*pi.-pi, theta.(x_vals), #note .*2pi to get the function on the scale of [0,2pi]\n",
    "                            #instead of [0,1]\n",
    "    linewidth = 3,\n",
    "    linecolor = lblue,\n",
    "    label = \"Direct Bayes\")\n",
    "plot!(x_vals.*2*pi.-pi, mcmc_post_drift.(x_vals),\n",
    "    linewidth = 3,\n",
    "    linecolor = dblue,\n",
    "    linestyle = :dash,\n",
    "    label = \"MCMC\",\n",
    "    legend = :bottomright)\n",
    "xlabel!(\"\\$X_t(rad)\\$\")\n",
    "ylabel!(\"\\$b(X_t)\\$\")"
   ]
  },
  {
   "cell_type": "code",
   "execution_count": null,
   "metadata": {},
   "outputs": [],
   "source": [
    "##   Save Figures\n",
    "png(full_bayes_plot, \"figures\\\\Bayes_plot_data\")\n",
    "png(full_mcmc_plot, \"figures\\\\MCMC_plot_data\")\n",
    "png(joint_plot, \"figures\\\\joint_plot_data\")"
   ]
  },
  {
   "cell_type": "code",
   "execution_count": null,
   "metadata": {},
   "outputs": [],
   "source": [
    "##   Mac save figures\n",
    "try\n",
    "    png(full_bayes_plot, \"figures/Bayes_plot_data\")\n",
    "    png(full_mcmc_plot, \"figures/MCMC_plot_data\")\n",
    "    png(joint_plot, \"figures/joint_plot_data\")\n",
    "catch e\n",
    "end\n",
    "\n",
    "try\n",
    "    png(full_bayes_plot, \"/figures/Bayes_plot_data\")\n",
    "    png(full_mcmc_plot, \"/figures/MCMC_plot_data\")\n",
    "    png(joint_plot, \"/figures/joint_plot_data\")\n",
    "catch e\n",
    "end"
   ]
  },
  {
   "cell_type": "markdown",
   "metadata": {},
   "source": [
    "# Reverse plots"
   ]
  },
  {
   "cell_type": "code",
   "execution_count": null,
   "metadata": {},
   "outputs": [],
   "source": [
    "##   Bayes\n",
    "\n",
    "# Fill band color\n",
    "rev_cred_plot = plot(x_vals.*c.-pi, f_l.(x_vals.*(-1).+1), fillrange = f_u.(x_vals.*(-1).+1), fillalpha = 0.20, \n",
    "    c = dblue, label = \"Confidence band\", legend = :bottomright, linestyle = :dot, linealpha = 0,\n",
    "foreground_color_legend = nothing,\n",
    "     background_color_legend = nothing)\n",
    "\n",
    "# Plot mean and credible bands\n",
    "plot!(x_vals.*c.-pi,f_u.(x_vals.*(-1).+1), line = :solid, msw = 0, ms = 2.5, label = \"Upper bound\", linecolor = dblue, linewidth = 2)\n",
    "plot!(x_vals.*c.-pi,f_l.(x_vals.*(-1).+1), line = :solid, msw = 0, ms = 2.5, label = \"Lower bound\", linecolor = dblue, linewidth = 2)\n",
    "plot!(x_vals.*c.-pi, mean(postΠ).(x_vals.*(-1).+1),line = :dash, linecolor = lblue , label = \"Posterior Mean\", linealpha = 1, linewidth = 2)\n",
    "\n",
    "xlabel!(\"\\$X_t\\$\")\n",
    "ylabel!(\"\\$b(X_t)\\$\")\n",
    "\n",
    "# Collect in one plot\n",
    "l = @layout [a ; b c]\n",
    "rev_full_bayes_plot = plot(path_plot, hist_plot, rev_cred_plot, layout = l, size = (800,600))"
   ]
  },
  {
   "cell_type": "code",
   "execution_count": null,
   "metadata": {},
   "outputs": [],
   "source": [
    "##   MCMC\n",
    "\n",
    "rev_mcmc_post_plot = plot(x_vals.*2pi.-pi, mcmc_post_drift.(x_vals.*(-1).+1), \n",
    "    linewidth = 3,\n",
    "    linecolor = dblue,\n",
    "    label = \"Posterior Mean\",\n",
    "    legend = :bottomright)\n",
    "xlabel!(\"\\$X_t(rad)\\$\")\n",
    "ylabel!(\"\\$b(X_t)\\$\")\n",
    "\n",
    "# Plot models visited\n",
    "j_lst2 = j_lst[1,:]\n",
    "\n",
    "model_plot = plot(j_lst2, legend = false, color = dblue,)\n",
    "vline!(model_plot, [1000], color = :black)\n",
    "xlabel!(\"\\$Iteration\\$\")\n",
    "ylabel!(\"\\$Model number\\$\")\n",
    "\n",
    "##   Collect in one plot\n",
    "l = @layout [a  b ]\n",
    "rev_full_mcmc_plot = plot(rev_mcmc_post_plot,model_plot, layout = l, size = (800,300),margin=5Plots.mm)"
   ]
  },
  {
   "cell_type": "code",
   "execution_count": null,
   "metadata": {},
   "outputs": [],
   "source": [
    "##   Save Figures\n",
    "png(rev_full_bayes_plot, \"figures\\\\rev_Bayes_plot_data\")\n",
    "png(rev_full_mcmc_plot, \"figures\\\\rev_MCMC_plot_data\")"
   ]
  },
  {
   "cell_type": "code",
   "execution_count": null,
   "metadata": {},
   "outputs": [],
   "source": [
    "##   Mac savefile\n",
    "try\n",
    "    png(rev_full_bayes_plot, \"figures/rev_Bayes_plot_data\")\n",
    "    png(rev_full_mcmc_plot, \"figures/rev_MCMC_plot_data\")\n",
    "catch e\n",
    "end\n",
    "\n",
    "try\n",
    "    png(rev_full_bayes_plot, \"/figures/rev_Bayes_plot_data\")\n",
    "    png(rev_full_mcmc_plot, \"/figures/rev_MCMC_plot_data\")\n",
    "catch e\n",
    "end"
   ]
  }
 ],
 "metadata": {
  "@webio": {
   "lastCommId": null,
   "lastKernelId": null
  },
  "kernelspec": {
   "display_name": "Julia 1.6.0",
   "language": "julia",
   "name": "julia-1.6"
  },
  "language_info": {
   "file_extension": ".jl",
   "mimetype": "application/julia",
   "name": "julia",
   "version": "1.6.0"
  }
 },
 "nbformat": 4,
 "nbformat_minor": 4
}

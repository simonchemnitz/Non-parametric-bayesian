{
 "cells": [
  {
   "cell_type": "code",
   "execution_count": null,
   "metadata": {},
   "outputs": [],
   "source": [
    "##   Load Packages\n",
    "using BayesianNonparametricStatistics, Plots\n",
    "using Statistics, Distributions\n",
    "using DelimitedFiles, Plots, LaTeXStrings\n",
    "using NBInclude, LinearAlgebra, SparseArrays\n",
    "##   Colors\n",
    "lblue = RGBA(83/255, 201/255, 250/255,0.7)\n",
    "dblue = RGBA(47/255, 122/255, 154/255,0.7)"
   ]
  },
  {
   "cell_type": "code",
   "execution_count": null,
   "metadata": {},
   "outputs": [],
   "source": [
    "##   Defining a drift function\n",
    "\n",
    "#drift function described in section 4 equation (13)\n",
    "#in van der Meulen, Schauer & Van Zanten 2014\n",
    "function drift_a(x)\n",
    "    if  0<=x<2/3\n",
    "        return 2/7-x-2/7*(1-3*x)*sqrt(abs(1-3*x))\n",
    "    end\n",
    "    if  2/3<=x<=1\n",
    "        return -2/7+2/7*x\n",
    "    end\n",
    "end\n",
    "\n",
    "function drift_b(x)\n",
    "    #note the mod(x,1)\n",
    "    #this makes the function 1 periodic\n",
    "    return 12*(drift_a(mod(x,1))+0.05)\n",
    "end\n",
    "\n",
    "\n",
    "##   Simmulating from the SDE\n",
    "\n",
    "# implement SDE dX_t = drift_b(X_t)dt + dW_t, \n",
    "# starting at zero till time 200.0, discretised \n",
    "# with precision 0.01.\n",
    "model_sim = SDEModel(1.0,0.0,200.0,10^-2)\n",
    "\n",
    "##   Define SDE\n",
    "sde = SDE(drift_b,model_sim)\n",
    "\n",
    "# x values [0,1]\n",
    "xs = range(0,1,length = 500)\n",
    "posterior_plot = plot()\n",
    "\n",
    "\n",
    "path_plot = plot()\n",
    "##   Direct Computation\n",
    "\n",
    "##   Model\n",
    "σ = 1.0 #diffusion\n",
    "beginvalue = 0.0 #starting value\n",
    "endtime = 200.0 #end time T\n",
    "Δ = 200.0/20000 #increment delta\n",
    "\n",
    "model = SDEModel(σ, beginvalue , endtime ,  Δ)\n",
    "\n",
    "##   Prior\n",
    "\n",
    "# number of terms in the series\n",
    "# sum_k=1^J s*k^-2*Z_k*phi_k\n",
    "J = 200\n",
    "\n",
    "\n",
    "# distribution of theta in\n",
    "# sum_j theta_j*phi_j\n",
    "s = pi\n",
    "distribution = GaussianVector(diagm([(s*0.5)*k^(-2) for k in 1.0:(J+1)]))\n",
    "\n",
    "# Basis functions\n",
    "# Fourier\n",
    "Π = GaussianProcess(vcat([x ->1.0] , [fourier(k) for k in 1:J]), distribution)\n",
    "0.0"
   ]
  },
  {
   "cell_type": "code",
   "execution_count": null,
   "metadata": {},
   "outputs": [],
   "source": [
    "x_sim = rand(sde)\n",
    "\n",
    "postΠ = calculateposterior(Π, x_sim, model)\n",
    "\n",
    "post_drift_bayes = mean(postΠ)\n",
    "\n",
    "plot!(posterior_plot, \n",
    "        xs, post_drift_bayes.(xs), \n",
    "        linewidth = 1,\n",
    "        linecolor = dblue,\n",
    "        legend = nothing,\n",
    "        linealpha = 0.3)"
   ]
  },
  {
   "cell_type": "code",
   "execution_count": null,
   "metadata": {},
   "outputs": [],
   "source": [
    "try\n",
    "    png(posterior_plot, \"/figures/test\")\n",
    "catch e\n",
    "end"
   ]
  },
  {
   "cell_type": "code",
   "execution_count": null,
   "metadata": {},
   "outputs": [],
   "source": [
    "for i in 1:200\n",
    "    print(i, \"\\r\")\n",
    "    ##   Sample from SDE\n",
    "    x_sim = rand(sde)\n",
    "\n",
    "    ##   Posterior\n",
    "\n",
    "    # distribution\n",
    "    postΠ = calculateposterior(Π, x_sim, model)\n",
    "\n",
    "    # posterior mean\n",
    "    post_drift_bayes = mean(postΠ)\n",
    "\n",
    "    ##   Plot\n",
    "    # plot posterior mean\n",
    "    plot!(posterior_plot, \n",
    "        xs, post_drift_bayes.(xs), \n",
    "        linewidth = 1,\n",
    "        linecolor = dblue,\n",
    "        legend = nothing,\n",
    "        linealpha = 0.3)\n",
    "    \n",
    "    plot!(path_plot,\n",
    "    x_sim.timeinterval, x_sim.samplevalues, \n",
    "    legend = false,\n",
    "    linecolor = dblue,\n",
    "    linealpha = 0.3)\n",
    "end"
   ]
  },
  {
   "cell_type": "code",
   "execution_count": null,
   "metadata": {},
   "outputs": [],
   "source": [
    "plot!(posterior_plot,\n",
    "    xs, drift_b.(xs),\n",
    "    linewidth = 3,\n",
    "    linecolor = :red)"
   ]
  },
  {
   "cell_type": "code",
   "execution_count": null,
   "metadata": {},
   "outputs": [],
   "source": [
    "png(posterior_plot, \"figures\\\\Multiple_Sims_post\")\n",
    "png(path_plot, \"figures\\\\Multiple_Sims_path\")"
   ]
  },
  {
   "cell_type": "code",
   "execution_count": null,
   "metadata": {},
   "outputs": [],
   "source": [
    "try\n",
    "    png(posterior_plot, \"figures\\Multiple_Sims_post\")\n",
    "catch y\n",
    "end"
   ]
  }
 ],
 "metadata": {
  "@webio": {
   "lastCommId": null,
   "lastKernelId": null
  },
  "kernelspec": {
   "display_name": "Julia 1.6.0",
   "language": "julia",
   "name": "julia-1.6"
  },
  "language_info": {
   "file_extension": ".jl",
   "mimetype": "application/julia",
   "name": "julia",
   "version": "1.6.0"
  }
 },
 "nbformat": 4,
 "nbformat_minor": 4
}
